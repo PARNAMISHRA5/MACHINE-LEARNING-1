{
 "cells": [
  {
   "cell_type": "code",
   "execution_count": 3,
   "id": "f86b07ad",
   "metadata": {},
   "outputs": [],
   "source": [
    "import pandas as pd"
   ]
  },
  {
   "cell_type": "code",
   "execution_count": 4,
   "id": "b45b7d7e",
   "metadata": {},
   "outputs": [],
   "source": [
    "df=pd.read_csv(r\"C:\\Users\\PARNA MISHRA\\Downloads\\food_truck_data (1).txt\")"
   ]
  },
  {
   "cell_type": "code",
   "execution_count": 5,
   "id": "ee8b02a6",
   "metadata": {},
   "outputs": [
    {
     "data": {
      "text/html": [
       "<div>\n",
       "<style scoped>\n",
       "    .dataframe tbody tr th:only-of-type {\n",
       "        vertical-align: middle;\n",
       "    }\n",
       "\n",
       "    .dataframe tbody tr th {\n",
       "        vertical-align: top;\n",
       "    }\n",
       "\n",
       "    .dataframe thead th {\n",
       "        text-align: right;\n",
       "    }\n",
       "</style>\n",
       "<table border=\"1\" class=\"dataframe\">\n",
       "  <thead>\n",
       "    <tr style=\"text-align: right;\">\n",
       "      <th></th>\n",
       "      <th>Population</th>\n",
       "      <th>Profit</th>\n",
       "    </tr>\n",
       "  </thead>\n",
       "  <tbody>\n",
       "    <tr>\n",
       "      <th>0</th>\n",
       "      <td>6.1101</td>\n",
       "      <td>17.5920</td>\n",
       "    </tr>\n",
       "    <tr>\n",
       "      <th>1</th>\n",
       "      <td>5.5277</td>\n",
       "      <td>9.1302</td>\n",
       "    </tr>\n",
       "    <tr>\n",
       "      <th>2</th>\n",
       "      <td>8.5186</td>\n",
       "      <td>13.6620</td>\n",
       "    </tr>\n",
       "    <tr>\n",
       "      <th>3</th>\n",
       "      <td>7.0032</td>\n",
       "      <td>11.8540</td>\n",
       "    </tr>\n",
       "    <tr>\n",
       "      <th>4</th>\n",
       "      <td>5.8598</td>\n",
       "      <td>6.8233</td>\n",
       "    </tr>\n",
       "  </tbody>\n",
       "</table>\n",
       "</div>"
      ],
      "text/plain": [
       "   Population   Profit\n",
       "0      6.1101  17.5920\n",
       "1      5.5277   9.1302\n",
       "2      8.5186  13.6620\n",
       "3      7.0032  11.8540\n",
       "4      5.8598   6.8233"
      ]
     },
     "execution_count": 5,
     "metadata": {},
     "output_type": "execute_result"
    }
   ],
   "source": [
    "df.head()"
   ]
  },
  {
   "cell_type": "code",
   "execution_count": 6,
   "id": "82ceb84d",
   "metadata": {},
   "outputs": [
    {
     "data": {
      "text/plain": [
       "Population    0\n",
       "Profit        0\n",
       "dtype: int64"
      ]
     },
     "execution_count": 6,
     "metadata": {},
     "output_type": "execute_result"
    }
   ],
   "source": [
    "df.isnull().sum()"
   ]
  },
  {
   "cell_type": "code",
   "execution_count": 22,
   "id": "d6ba8604",
   "metadata": {},
   "outputs": [],
   "source": [
    "X = df['Population'].values.reshape(-1, 1)\n",
    "y = df['Profit'].values.reshape(-1, 1)"
   ]
  },
  {
   "cell_type": "code",
   "execution_count": 23,
   "id": "d47331d1",
   "metadata": {},
   "outputs": [],
   "source": [
    "import numpy as np\n",
    "import matplotlib.pyplot as plt\n",
    "import seaborn as sns"
   ]
  },
  {
   "cell_type": "code",
   "execution_count": 24,
   "id": "d5cf684c",
   "metadata": {},
   "outputs": [],
   "source": [
    "class SimpleLinearRegression:\n",
    "    def __init__(self):\n",
    "        self.coefficient = None\n",
    "        self.intercept = None\n",
    "\n",
    "    def fit(self, X, y):\n",
    "        x_mean = np.mean(X)\n",
    "        y_mean = np.mean(y)\n",
    "        numerator = np.sum((X - x_mean) * (y - y_mean))\n",
    "        denominator = np.sum((X - x_mean) ** 2)\n",
    "        self.coefficient = numerator / denominator\n",
    "        self.intercept = y_mean - self.coefficient * x_mean\n",
    "\n",
    "    def predict(self, X):\n",
    "        return self.coefficient * X + self.intercept\n",
    "\n",
    "    def calculate_cost(self, X, y):\n",
    "        predictions = self.predict(X)\n",
    "        return np.mean((y - predictions) ** 2)\n"
   ]
  },
  {
   "cell_type": "code",
   "execution_count": 25,
   "id": "4630098f",
   "metadata": {},
   "outputs": [
    {
     "name": "stdout",
     "output_type": "stream",
     "text": [
      "Custom Model Coefficients: 1.193033644189594\n",
      "Custom Model Intercept: -3.8957808783118537\n",
      "Custom Model MSE: 8.953942751950356\n"
     ]
    }
   ],
   "source": [
    "model = SimpleLinearRegression()\n",
    "model.fit(X, y)\n",
    "predictions = model.predict(X)\n",
    "print(\"Custom Model Coefficients:\", model.coefficient)\n",
    "print(\"Custom Model Intercept:\", model.intercept)\n",
    "print(\"Custom Model MSE:\", model.calculate_cost(X, y))"
   ]
  },
  {
   "cell_type": "code",
   "execution_count": 27,
   "id": "6539a925",
   "metadata": {},
   "outputs": [
    {
     "data": {
      "text/plain": [
       "8.034555563584085"
      ]
     },
     "execution_count": 27,
     "metadata": {},
     "output_type": "execute_result"
    }
   ],
   "source": [
    "model.predict(10)"
   ]
  },
  {
   "cell_type": "code",
   "execution_count": 28,
   "id": "d5bc16ff",
   "metadata": {},
   "outputs": [
    {
     "data": {
      "text/html": [
       "<div>\n",
       "<style scoped>\n",
       "    .dataframe tbody tr th:only-of-type {\n",
       "        vertical-align: middle;\n",
       "    }\n",
       "\n",
       "    .dataframe tbody tr th {\n",
       "        vertical-align: top;\n",
       "    }\n",
       "\n",
       "    .dataframe thead th {\n",
       "        text-align: right;\n",
       "    }\n",
       "</style>\n",
       "<table border=\"1\" class=\"dataframe\">\n",
       "  <thead>\n",
       "    <tr style=\"text-align: right;\">\n",
       "      <th></th>\n",
       "      <th>Population</th>\n",
       "      <th>Profit</th>\n",
       "    </tr>\n",
       "  </thead>\n",
       "  <tbody>\n",
       "    <tr>\n",
       "      <th>0</th>\n",
       "      <td>6.1101</td>\n",
       "      <td>17.5920</td>\n",
       "    </tr>\n",
       "    <tr>\n",
       "      <th>1</th>\n",
       "      <td>5.5277</td>\n",
       "      <td>9.1302</td>\n",
       "    </tr>\n",
       "    <tr>\n",
       "      <th>2</th>\n",
       "      <td>8.5186</td>\n",
       "      <td>13.6620</td>\n",
       "    </tr>\n",
       "    <tr>\n",
       "      <th>3</th>\n",
       "      <td>7.0032</td>\n",
       "      <td>11.8540</td>\n",
       "    </tr>\n",
       "    <tr>\n",
       "      <th>4</th>\n",
       "      <td>5.8598</td>\n",
       "      <td>6.8233</td>\n",
       "    </tr>\n",
       "    <tr>\n",
       "      <th>5</th>\n",
       "      <td>8.3829</td>\n",
       "      <td>11.8860</td>\n",
       "    </tr>\n",
       "    <tr>\n",
       "      <th>6</th>\n",
       "      <td>7.4764</td>\n",
       "      <td>4.3483</td>\n",
       "    </tr>\n",
       "    <tr>\n",
       "      <th>7</th>\n",
       "      <td>8.5781</td>\n",
       "      <td>12.0000</td>\n",
       "    </tr>\n",
       "    <tr>\n",
       "      <th>8</th>\n",
       "      <td>6.4862</td>\n",
       "      <td>6.5987</td>\n",
       "    </tr>\n",
       "    <tr>\n",
       "      <th>9</th>\n",
       "      <td>5.0546</td>\n",
       "      <td>3.8166</td>\n",
       "    </tr>\n",
       "  </tbody>\n",
       "</table>\n",
       "</div>"
      ],
      "text/plain": [
       "   Population   Profit\n",
       "0      6.1101  17.5920\n",
       "1      5.5277   9.1302\n",
       "2      8.5186  13.6620\n",
       "3      7.0032  11.8540\n",
       "4      5.8598   6.8233\n",
       "5      8.3829  11.8860\n",
       "6      7.4764   4.3483\n",
       "7      8.5781  12.0000\n",
       "8      6.4862   6.5987\n",
       "9      5.0546   3.8166"
      ]
     },
     "execution_count": 28,
     "metadata": {},
     "output_type": "execute_result"
    }
   ],
   "source": [
    "df.head(10)"
   ]
  },
  {
   "cell_type": "code",
   "execution_count": 29,
   "id": "efb1bb2a",
   "metadata": {},
   "outputs": [
    {
     "data": {
      "image/png": "[encoded data removed]",
      "text/plain": [
       "<Figure size 640x480 with 1 Axes>"
      ]
     },
     "metadata": {},
     "output_type": "display_data"
    }
   ],
   "source": [
    "plt.scatter(X, y, color='blue', label='Data')\n",
    "plt.plot(X, predictions, color='red', label='Custom Linear Fit')\n",
    "plt.xlabel('Population in 10,000s')\n",
    "plt.ylabel('Profit in $10,000s')\n",
    "plt.title('Profit Prediction vs. Population Size')\n",
    "plt.legend()\n",
    "plt.show()"
   ]
  },
  {
   "cell_type": "markdown",
   "id": "a47482b8",
   "metadata": {},
   "source": [
    "NOW USING SKLEARN"
   ]
  },
  {
   "cell_type": "code",
   "execution_count": 32,
   "id": "9e5c36ee",
   "metadata": {},
   "outputs": [],
   "source": [
    "from sklearn.linear_model import LinearRegression\n",
    "sk_model=LinearRegression()\n",
    "from sklearn.metrics import mean_squared_error"
   ]
  },
  {
   "cell_type": "code",
   "execution_count": 33,
   "id": "747efa0e",
   "metadata": {},
   "outputs": [
    {
     "name": "stdout",
     "output_type": "stream",
     "text": [
      "Scikit-Learn LinearRegression Coefficients: [1.19303364]\n",
      "Scikit-Learn Intercept: [-3.89578088]\n",
      "Scikit-Learn MSE: 8.953942751950356\n"
     ]
    }
   ],
   "source": [
    "sk_model.fit(X, y)\n",
    "sk_predictions = sk_model.predict(X)\n",
    "print(\"Scikit-Learn LinearRegression Coefficients:\", sk_model.coef_[0])\n",
    "print(\"Scikit-Learn Intercept:\", sk_model.intercept_)\n",
    "print(\"Scikit-Learn MSE:\", mean_squared_error(y, sk_predictions))"
   ]
  },
  {
   "cell_type": "code",
   "execution_count": 37,
   "id": "efa0b72c",
   "metadata": {},
   "outputs": [
    {
     "data": {
      "text/plain": [
       "<matplotlib.legend.Legend at 0x1ca98bb9790>"
      ]
     },
     "execution_count": 37,
     "metadata": {},
     "output_type": "execute_result"
    },
    {
     "data": {
      "image/png": "[encoded data removed]",
      "text/plain": [
       "<Figure size 640x480 with 1 Axes>"
      ]
     },
     "metadata": {},
     "output_type": "display_data"
    }
   ],
   "source": [
    "plt.scatter(X, y, color='blue', label='Actual Data')\n",
    "\n",
    "# Plotting the regression line\n",
    "plt.plot(X, sk_predictions, color='red', label='Linear Regression Line')\n",
    "\n",
    "# Adding title and labels\n",
    "plt.title('Population vs. Profit Prediction')\n",
    "plt.xlabel('Population in 10,000s')\n",
    "plt.ylabel('Profit in $10,000s')\n",
    "plt.legend()"
   ]
  },
  {
   "cell_type": "code",
   "execution_count": 38,
   "id": "929c06e3",
   "metadata": {},
   "outputs": [],
   "source": [
    "from sklearn.linear_model import Lasso,Ridge"
   ]
  },
  {
   "cell_type": "code",
   "execution_count": 40,
   "id": "1e35db5d",
   "metadata": {},
   "outputs": [
    {
     "name": "stdout",
     "output_type": "stream",
     "text": [
      "Lasso Regression Coefficients: [0.]\n",
      "Lasso Intercept: [5.83913505]\n",
      "Lasso MSE: 30.049969604713656\n",
      "Ridge Regression Coefficients: [1.15293695]\n",
      "Ridge Intercept: [-3.56859989]\n",
      "Ridge MSE: 8.977772111524343\n"
     ]
    }
   ],
   "source": [
    "lasso_model = Lasso(alpha=50,max_iter=500, tol=0.1)\n",
    "lasso_model.fit(X, y)\n",
    "lasso_predictions = lasso_model.predict(X)\n",
    "print(\"Lasso Regression Coefficients:\", lasso_model.coef_)\n",
    "print(\"Lasso Intercept:\", lasso_model.intercept_)\n",
    "print(\"Lasso MSE:\", mean_squared_error(y, lasso_predictions))\n",
    "\n",
    "# Ridge Regression\n",
    "ridge_model = Ridge(alpha=50.0,max_iter=500, tol=0.1)\n",
    "ridge_model.fit(X, y)\n",
    "ridge_predictions = ridge_model.predict(X)\n",
    "print(\"Ridge Regression Coefficients:\", ridge_model.coef_[0])\n",
    "print(\"Ridge Intercept:\", ridge_model.intercept_)\n",
    "print(\"Ridge MSE:\", mean_squared_error(y, ridge_predictions))"
   ]
  },
  {
   "cell_type": "code",
   "execution_count": 41,
   "id": "7a4cb241",
   "metadata": {},
   "outputs": [],
   "source": [
    "from sklearn.metrics import mean_squared_error, r2_score"
   ]
  },
  {
   "cell_type": "code",
   "execution_count": 43,
   "id": "07953e9b",
   "metadata": {},
   "outputs": [],
   "source": [
    "sse = np.sum((y - sk_predictions) ** 2)"
   ]
  },
  {
   "cell_type": "code",
   "execution_count": 44,
   "id": "d40a16bf",
   "metadata": {},
   "outputs": [
    {
     "data": {
      "text/plain": [
       "868.5324469391845"
      ]
     },
     "execution_count": 44,
     "metadata": {},
     "output_type": "execute_result"
    }
   ],
   "source": [
    "sse"
   ]
  },
  {
   "cell_type": "code",
   "execution_count": 45,
   "id": "e56cf1f2",
   "metadata": {},
   "outputs": [],
   "source": [
    "r2=r2_score(y,sk_predictions)"
   ]
  },
  {
   "cell_type": "code",
   "execution_count": 46,
   "id": "1f7c21be",
   "metadata": {},
   "outputs": [
    {
     "data": {
      "text/plain": [
       "0.7020315537841397"
      ]
     },
     "execution_count": 46,
     "metadata": {},
     "output_type": "execute_result"
    }
   ],
   "source": [
    "r2"
   ]
  },
  {
   "cell_type": "code",
   "execution_count": null,
   "id": "2ccb4dde",
   "metadata": {},
   "outputs": [],
   "source": []
  }
 ],
 "metadata": {
  "kernelspec": {
   "display_name": "Python 3 (ipykernel)",
   "language": "python",
   "name": "python3"
  },
  "language_info": {
   "codemirror_mode": {
    "name": "ipython",
    "version": 3
   },
   "file_extension": ".py",
   "mimetype": "text/x-python",
   "name": "python",
   "nbconvert_exporter": "python",
   "pygments_lexer": "ipython3",
   "version": "3.11.4"
  }
 },
 "nbformat": 4,
 "nbformat_minor": 5
}
